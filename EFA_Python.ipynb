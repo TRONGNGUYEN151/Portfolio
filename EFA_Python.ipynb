{
 "cells": [
  {
   "cell_type": "markdown",
   "id": "dae7b7a4-d26d-4aa2-b9ce-a884eac84ea2",
   "metadata": {},
   "source": [
    "## Phân tích nhân tố khám phá (EFA- Exploratory Factor Analysis)\n"
   ]
  },
  {
   "cell_type": "markdown",
   "id": "10193b8b-f1d3-4a91-916c-463dd60e6294",
   "metadata": {},
   "source": [
    "## 1. Phân tích dữ liệu khám phá là gì?"
   ]
  },
  {
   "cell_type": "markdown",
   "id": "607c4eb7-e24c-4f76-9045-969cc50efb62",
   "metadata": {},
   "source": [
    "- Phương pháp phân tích nhân tố khám phá EFA (Exploratory Factor Analysis, gọi tắt là phương pháp EFA) giúp chúng ta đánh giá hai loại giá trị quan trọng của thang đo là giá trị hội tụ và giá trị phân biệt.\n",
    "- Phương pháp phân tích nhân tố EFA thuộc nhóm phân tích đa biến phụ thuộc lẫn nhau (interdependence techniques), nghĩa là không có biến phụ thuộc và biến độc lập mà nó dựa vào mối tương quan giữa các biến với nhau (interrelationships). EFA dùng để rút gọn một tập k biến quan sát thành một tập F (F<k) các nhân tố có ý nghĩa hơn. Cơ sở của việc rút gọn này dựa vào mối quan hệ tuyến tính của các nhân tố với các biến nguyên thủy (biến quan sát)."
   ]
  },
  {
   "cell_type": "markdown",
   "id": "e65ba7de-475c-482c-ac31-3c3fce8877cf",
   "metadata": {},
   "source": [
    "## 2. Dữ liệu và phương pháp"
   ]
  },
  {
   "cell_type": "markdown",
   "id": "76277294-c857-41cb-8ee9-1e11e68385d5",
   "metadata": {},
   "source": [
    "- Bộ dữ liệu: Nhận thức về một số thương hiệu ngân hàng ở Việt Nam hiện nay.\n",
    "Dữ liệu được khảo sát theo bộ câu hỏi dưới dây sử dụng thang đo Likert đối với 6 ngân hàng sau: Ngân hàng TMCP Á châu , Ngân hàng TMCP Đông Á, Ngân hàng TMCP Nam Á, Ngân hàng TMCP Sài Gòn Thương tín, Ngân hàng TMCP Sài Gòn, Ngân hàng TMCP Ngoại thương.\n"
   ]
  },
  {
   "cell_type": "markdown",
   "id": "4e7566fe-043f-4a26-ae89-7e55ba359d5e",
   "metadata": {},
   "source": [
    "| Tên biến | Nội dung |\n",
    "|---|---|\n",
    "|c1 |NB1-Biết ngân hàng|\n",
    "|c2 |NB2-Phân biệt với ngân hàng khác|\n",
    "|c3 |NB3-Nội dung tên ngân hàng |\n",
    "|c4 |NB4-Nhận biết logo|\n",
    "|c5 |NB5-Nhớ màu sắc|\n",
    "|c6 |CL1-Được đối xử như quý khách|\n",
    "|c7 |CL2-CSVC an toàn|\n",
    "|c8 |CL3-Thủ tục nhanh gọn|\n",
    "|c9 |CL4-Giá phí tương xứng chất lượng|\n",
    "|c10 |CL5-Nhân viên ăn mặc lịch sự|\n",
    "|c11 |CL6-Nhân viên đáp ứng đúng nhu cầu khách hàng|\n",
    "|c12 |CL7-Nhân viên giải quyết sự cố khéo léo|\n",
    "|c13 |CL8-Điểm giao dịch tiện nghi|\n",
    "|c14 |CL9-Bầu không khí chuyên nghiệp|\n",
    "|c15 |HA1-Ngân hàng chuyên dịch vụ tài chính|\n",
    "|c16 |HA2-Ngân hàng có sản phẩm dịch vụ đa dạng|\n",
    "|c17 |HA3-Ban lãnh đạo ngân hàng giỏi quản lý|\n",
    "|c18 |HA4-Ngân hàng có thành tích cao|\n",
    "|c19 |HA5-Ngân hàng đáng tin cậy|\n",
    "|c20 |HA6-Ngân hàng có điểm giao dịch khắp tỉnh thành|\n",
    "|c21 |TT1-Vẫn sử dụng dịch vụ ngân hàng X|\n",
    "|c22 |TT2-Sẽ nghĩ ngay đến ngân hàng X khi có nhu cầu|\n",
    "|c23 |TT3-Sẽ sử dụng ngân hàng X lâu dài|"
   ]
  },
  {
   "cell_type": "markdown",
   "id": "c43da28e-219f-4c3c-8861-6d88674915b0",
   "metadata": {},
   "source": [
    "- Phương pháp: Sử dụng các thư viện trong python để phân tích EFA."
   ]
  },
  {
   "cell_type": "markdown",
   "id": "ce1e2c83-2e33-4efd-902c-8a8fba93e596",
   "metadata": {},
   "source": [
    "## 3. Các bước thực hiện trên Python"
   ]
  },
  {
   "cell_type": "code",
   "execution_count": null,
   "id": "b59ad2c2-1111-448e-a098-3994c5aaa118",
   "metadata": {},
   "outputs": [],
   "source": [
    "## Gọi các thư viện cần thiết cho phân tích nhân tố khám phá"
   ]
  },
  {
   "cell_type": "code",
   "execution_count": 1,
   "id": "777bcda3-c8d9-4e05-b551-177ee49b6fda",
   "metadata": {},
   "outputs": [],
   "source": [
    "import pandas as pd\n",
    "from sklearn.datasets import load_iris\n",
    "from factor_analyzer import FactorAnalyzer\n",
    "import matplotlib.pyplot as plt"
   ]
  },
  {
   "cell_type": "code",
   "execution_count": null,
   "id": "d5fc65a9-93f3-4cef-9675-de7aca77d2b2",
   "metadata": {},
   "outputs": [],
   "source": [
    "## Mở file dữ liệu"
   ]
  },
  {
   "cell_type": "code",
   "execution_count": 17,
   "id": "440d34f5-9d1e-4556-9475-736a01e742c7",
   "metadata": {},
   "outputs": [],
   "source": [
    "df= pd.read_excel(r\"C:\\Users\\thanh\\Downloads\\THNN.xlsx\", index_col=0)"
   ]
  },
  {
   "cell_type": "markdown",
   "id": "d777c543-8191-4e03-84bf-e30373b5c2dc",
   "metadata": {},
   "source": [
    "Để thõa mãn các yêu cầu phân tích nhân tố khám phá, ta cần thực hiện một số kiểm định như KMO và kiểm định Bartlett.\n",
    "- Đối với kiểm định Bartlett, kết quả có ý nghĩa thống kê khi p-Value<0.05. Điều này tương ứng với việc các biến có tương quan trong tổng thể.\n",
    "- Tiếp theo là hệ số KMO (Kaiser-Meyer-Olkin) chỉ số này nằm trong khoảng [0.5;1] được cho là thích hợp để phân tích nhân tố, chỉ số này càng lớn càng có ý nghĩa trong phân tích này."
   ]
  },
  {
   "cell_type": "code",
   "execution_count": 20,
   "id": "789930b1-0fdc-4950-89fe-4a1bd59d88af",
   "metadata": {},
   "outputs": [
    {
     "data": {
      "text/plain": [
       "(3263.7987764738036, 0.0)"
      ]
     },
     "execution_count": 20,
     "metadata": {},
     "output_type": "execute_result"
    }
   ],
   "source": [
    "from factor_analyzer.factor_analyzer import calculate_bartlett_sphericity\n",
    "chi_square_value,p_value=calculate_bartlett_sphericity(df)\n",
    "chi_square_value, p_value"
   ]
  },
  {
   "cell_type": "code",
   "execution_count": 22,
   "id": "a00a43e3-611c-40fb-ad94-15fc5a891171",
   "metadata": {},
   "outputs": [],
   "source": [
    "from factor_analyzer.factor_analyzer import calculate_kmo\n",
    "kmo_all,kmo_model=calculate_kmo(df)"
   ]
  },
  {
   "cell_type": "code",
   "execution_count": 23,
   "id": "c0633ffb-0bee-4bca-b60e-52433b6967cc",
   "metadata": {},
   "outputs": [
    {
     "data": {
      "text/plain": [
       "0.8972495674490817"
      ]
     },
     "execution_count": 23,
     "metadata": {},
     "output_type": "execute_result"
    }
   ],
   "source": [
    "kmo_model"
   ]
  },
  {
   "cell_type": "code",
   "execution_count": null,
   "id": "828b6f9e-9825-4e07-a9c2-a66cec300fbf",
   "metadata": {},
   "outputs": [],
   "source": [
    "## Lựa chọn số lượng nhân tố."
   ]
  },
  {
   "cell_type": "code",
   "execution_count": 26,
   "id": "9502509a-3cb2-40af-bfb1-0c0196f3ecba",
   "metadata": {},
   "outputs": [
    {
     "data": {
      "text/plain": [
       "array([7.06268185, 2.08994666, 1.36020958, 1.10418477, 1.02545084,\n",
       "       0.97012688, 0.90346728, 0.83103438, 0.77171372, 0.71583862,\n",
       "       0.66054972, 0.62024572, 0.61054745, 0.57222973, 0.53812565,\n",
       "       0.50363481, 0.49187491, 0.43128205, 0.41812737, 0.38095628,\n",
       "       0.35624982, 0.31178338, 0.26973854])"
      ]
     },
     "execution_count": 26,
     "metadata": {},
     "output_type": "execute_result"
    }
   ],
   "source": [
    "fa = FactorAnalyzer()\n",
    "fa.fit(df)\n",
    "ev, v = fa.get_eigenvalues()\n",
    "ev"
   ]
  },
  {
   "cell_type": "code",
   "execution_count": 27,
   "id": "022fab0a-8b2f-49e9-8046-9bf09f8ff896",
   "metadata": {},
   "outputs": [
    {
     "data": {
      "image/png": "[encoded data removed]",
      "text/plain": [
       "<Figure size 640x480 with 1 Axes>"
      ]
     },
     "metadata": {},
     "output_type": "display_data"
    }
   ],
   "source": [
    "plt.scatter(range(1,df.shape[1]+1),ev)\n",
    "plt.plot(range(1,df.shape[1]+1),ev)\n",
    "plt.title('Scree Plot')\n",
    "plt.xlabel('Factors')\n",
    "plt.ylabel('Eigenvalue')\n",
    "plt.grid()\n",
    "plt.show()"
   ]
  },
  {
   "cell_type": "markdown",
   "id": "871e22e3-b3e5-4048-a250-1f47f750328c",
   "metadata": {},
   "source": [
    "Với bộ dữ liệu phân tích, các câu hỏi đã được phân chia thành 4 nhân tố chính. Và kết quả có được từ quy tắc Kaiser cũng như kết quả trực quan bằng đồ thị đều cho kết quả là 4 nhân tố. Ở đây cũng có thể lựa chọn 5 nhân tố nhưng để tương ứng với bộ dữ liệu ta chọn tải các biến vào 4 nhân tố theo bộ câu hỏi ban đầu."
   ]
  },
  {
   "cell_type": "code",
   "execution_count": 37,
   "id": "84407787-7bcc-422a-a2cf-4872e8d474cc",
   "metadata": {},
   "outputs": [
    {
     "data": {
      "text/html": [
       "<style>#sk-container-id-3 {color: black;background-color: white;}#sk-container-id-3 pre{padding: 0;}#sk-container-id-3 div.sk-toggleable {background-color: white;}#sk-container-id-3 label.sk-toggleable__label {cursor: pointer;display: block;width: 100%;margin-bottom: 0;padding: 0.3em;box-sizing: border-box;text-align: center;}#sk-container-id-3 label.sk-toggleable__label-arrow:before {content: \"▸\";float: left;margin-right: 0.25em;color: #696969;}#sk-container-id-3 label.sk-toggleable__label-arrow:hover:before {color: black;}#sk-container-id-3 div.sk-estimator:hover label.sk-toggleable__label-arrow:before {color: black;}#sk-container-id-3 div.sk-toggleable__content {max-height: 0;max-width: 0;overflow: hidden;text-align: left;background-color: #f0f8ff;}#sk-container-id-3 div.sk-toggleable__content pre {margin: 0.2em;color: black;border-radius: 0.25em;background-color: #f0f8ff;}#sk-container-id-3 input.sk-toggleable__control:checked~div.sk-toggleable__content {max-height: 200px;max-width: 100%;overflow: auto;}#sk-container-id-3 input.sk-toggleable__control:checked~label.sk-toggleable__label-arrow:before {content: \"▾\";}#sk-container-id-3 div.sk-estimator input.sk-toggleable__control:checked~label.sk-toggleable__label {background-color: #d4ebff;}#sk-container-id-3 div.sk-label input.sk-toggleable__control:checked~label.sk-toggleable__label {background-color: #d4ebff;}#sk-container-id-3 input.sk-hidden--visually {border: 0;clip: rect(1px 1px 1px 1px);clip: rect(1px, 1px, 1px, 1px);height: 1px;margin: -1px;overflow: hidden;padding: 0;position: absolute;width: 1px;}#sk-container-id-3 div.sk-estimator {font-family: monospace;background-color: #f0f8ff;border: 1px dotted black;border-radius: 0.25em;box-sizing: border-box;margin-bottom: 0.5em;}#sk-container-id-3 div.sk-estimator:hover {background-color: #d4ebff;}#sk-container-id-3 div.sk-parallel-item::after {content: \"\";width: 100%;border-bottom: 1px solid gray;flex-grow: 1;}#sk-container-id-3 div.sk-label:hover label.sk-toggleable__label {background-color: #d4ebff;}#sk-container-id-3 div.sk-serial::before {content: \"\";position: absolute;border-left: 1px solid gray;box-sizing: border-box;top: 0;bottom: 0;left: 50%;z-index: 0;}#sk-container-id-3 div.sk-serial {display: flex;flex-direction: column;align-items: center;background-color: white;padding-right: 0.2em;padding-left: 0.2em;position: relative;}#sk-container-id-3 div.sk-item {position: relative;z-index: 1;}#sk-container-id-3 div.sk-parallel {display: flex;align-items: stretch;justify-content: center;background-color: white;position: relative;}#sk-container-id-3 div.sk-item::before, #sk-container-id-3 div.sk-parallel-item::before {content: \"\";position: absolute;border-left: 1px solid gray;box-sizing: border-box;top: 0;bottom: 0;left: 50%;z-index: -1;}#sk-container-id-3 div.sk-parallel-item {display: flex;flex-direction: column;z-index: 1;position: relative;background-color: white;}#sk-container-id-3 div.sk-parallel-item:first-child::after {align-self: flex-end;width: 50%;}#sk-container-id-3 div.sk-parallel-item:last-child::after {align-self: flex-start;width: 50%;}#sk-container-id-3 div.sk-parallel-item:only-child::after {width: 0;}#sk-container-id-3 div.sk-dashed-wrapped {border: 1px dashed gray;margin: 0 0.4em 0.5em 0.4em;box-sizing: border-box;padding-bottom: 0.4em;background-color: white;}#sk-container-id-3 div.sk-label label {font-family: monospace;font-weight: bold;display: inline-block;line-height: 1.2em;}#sk-container-id-3 div.sk-label-container {text-align: center;}#sk-container-id-3 div.sk-container {/* jupyter's `normalize.less` sets `[hidden] { display: none; }` but bootstrap.min.css set `[hidden] { display: none !important; }` so we also need the `!important` here to be able to override the default hidden behavior on the sphinx rendered scikit-learn.org. See: https://github.com/scikit-learn/scikit-learn/issues/21755 */display: inline-block !important;position: relative;}#sk-container-id-3 div.sk-text-repr-fallback {display: none;}</style><div id=\"sk-container-id-3\" class=\"sk-top-container\"><div class=\"sk-text-repr-fallback\"><pre>FactorAnalyzer(n_factors=4, rotation=&#x27;varimax&#x27;, rotation_kwargs={})</pre><b>In a Jupyter environment, please rerun this cell to show the HTML representation or trust the notebook. <br />On GitHub, the HTML representation is unable to render, please try loading this page with nbviewer.org.</b></div><div class=\"sk-container\" hidden><div class=\"sk-item\"><div class=\"sk-estimator sk-toggleable\"><input class=\"sk-toggleable__control sk-hidden--visually\" id=\"sk-estimator-id-3\" type=\"checkbox\" checked><label for=\"sk-estimator-id-3\" class=\"sk-toggleable__label sk-toggleable__label-arrow\">FactorAnalyzer</label><div class=\"sk-toggleable__content\"><pre>FactorAnalyzer(n_factors=4, rotation=&#x27;varimax&#x27;, rotation_kwargs={})</pre></div></div></div></div></div>"
      ],
      "text/plain": [
       "FactorAnalyzer(n_factors=4, rotation='varimax', rotation_kwargs={})"
      ]
     },
     "execution_count": 37,
     "metadata": {},
     "output_type": "execute_result"
    }
   ],
   "source": [
    "## Tiến hành phân tích nhân tố với số nhân tố là 4 và kiểu xoay là xoay trực giao.\n",
    "fa = FactorAnalyzer(n_factors=4,rotation='varimax')\n",
    "fa.fit(df)"
   ]
  },
  {
   "cell_type": "code",
   "execution_count": 38,
   "id": "6a0272de-f26f-4251-98d7-f4ef42258151",
   "metadata": {},
   "outputs": [
    {
     "name": "stdout",
     "output_type": "stream",
     "text": [
      "            0         1         2         3\n",
      "c1   0.147716  0.105501  0.459411 -0.025632\n",
      "c2   0.087049  0.094909  0.578197  0.046520\n",
      "c3   0.084315  0.221929  0.590010 -0.031510\n",
      "c4   0.034455  0.065232  0.767725  0.157775\n",
      "c5   0.171699  0.120214  0.610290  0.224554\n",
      "c6   0.552499  0.178612  0.163560  0.114898\n",
      "c7   0.469289  0.293012  0.199120 -0.002355\n",
      "c8   0.540587  0.076098  0.180216  0.123986\n",
      "c9   0.561543  0.125527  0.088840  0.103530\n",
      "c10  0.461512  0.237276  0.123137  0.095426\n",
      "c11  0.697848  0.166049  0.071384  0.167755\n",
      "c12  0.695982  0.239974  0.005309  0.141142\n",
      "c13  0.499034  0.225785  0.028278  0.099637\n",
      "c14  0.571614  0.276817  0.166306  0.194950\n",
      "c15  0.262468  0.372801  0.125212  0.155503\n",
      "c16  0.207307  0.458442  0.217542  0.144420\n",
      "c17  0.256518  0.639562  0.120998  0.150553\n",
      "c18  0.209337  0.634046  0.230652  0.126895\n",
      "c19  0.314943  0.521785  0.103456  0.129867\n",
      "c20  0.259081  0.216502  0.207367  0.140116\n",
      "c21  0.251041  0.249197  0.103241  0.801681\n",
      "c22  0.370031  0.304259  0.152378  0.597452\n",
      "c23  0.196970  0.332125  0.087452  0.321658\n"
     ]
    }
   ],
   "source": [
    "factor_df=pd.DataFrame(fa.loadings_,index=df.columns)\n",
    "print(factor_df)"
   ]
  },
  {
   "cell_type": "markdown",
   "id": "2760cee5-9dcd-4d87-a9ac-c0b4fa4a9605",
   "metadata": {},
   "source": [
    "Như vậy, các biến đã được tải vào từng nhân tố phù hợp:\n",
    "- Nhân tố 1: các biến c6, c7, c8, c9, c10, c11, c12, c13, c14. Tương ứng với Chất lượng của các ngân hàng.\n",
    "- Nhân tố 2: các biến c15, c16, c17, c18, c19. Tương ứng với Hình ảnh ngân hàng.\n",
    "- Nhân tố 3: các biến c1, c2, c3, c4, c5. Tương ứng với Nhận diện ngân hàng.\n",
    "- Nhân tố 4: các biến c21, c22, c23. Tương ứng với Trung thành với ngân hàng.\n",
    "Riêng c20 sau khi phân tích nhân tố không được tải về bất kì nhân tố nào. Đồng nghĩa với việc biến này nên được loại bỏ khỏi mô hình trước khi thực hiện các bước tiếp theo trong phân tích dữ liệu đa biến."
   ]
  },
  {
   "cell_type": "code",
   "execution_count": null,
   "id": "1495dff7-7d2a-4665-baea-94af0839672f",
   "metadata": {},
   "outputs": [],
   "source": []
  }
 ],
 "metadata": {
  "kernelspec": {
   "display_name": "Python 3 (ipykernel)",
   "language": "python",
   "name": "python3"
  },
  "language_info": {
   "codemirror_mode": {
    "name": "ipython",
    "version": 3
   },
   "file_extension": ".py",
   "mimetype": "text/x-python",
   "name": "python",
   "nbconvert_exporter": "python",
   "pygments_lexer": "ipython3",
   "version": "3.11.7"
  }
 },
 "nbformat": 4,
 "nbformat_minor": 5
}
